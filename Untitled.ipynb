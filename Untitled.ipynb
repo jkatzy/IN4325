{
 "cells": [
  {
   "cell_type": "code",
   "execution_count": 1,
   "metadata": {
    "pycharm": {
     "is_executing": false
    }
   },
   "outputs": [],
   "source": [
    "import numpy as np\n",
    "import pandas as pd\n",
    "import gensim\n",
    "from gensim.utils import lemmatize\n",
    "from sklearn.metrics import mean_squared_error, accuracy_score\n",
    "from sklearn.model_selection import StratifiedKFold\n",
    "from sklearn.svm import SVR\n",
    "from sklearn.svm import SVC\n",
    "from sklearn.svm import LinearSVC\n",
    "from sklearn.svm import LinearSVR\n",
    "from sklearn.ensemble import BaggingClassifier\n",
    "from sklearn.multiclass import OneVsRestClassifier\n",
    "import seaborn as sb\n",
    "import matplotlib.pyplot as plt\n",
    "import collections\n",
    "from gensim.models.doc2vec import Doc2Vec\n",
    "import multiprocessing\n",
    "from gensim.test.utils import common_texts\n",
    "from gensim.models.doc2vec import Doc2Vec, TaggedDocument\n",
    "from nltk.corpus import stopwords\n",
    "from nltk.stem import WordNetLemmatizer\n",
    "from nltk import word_tokenize\n",
    "from sklearn.ensemble import GradientBoostingClassifier\n",
    "from sklearn.feature_extraction.text import TfidfVectorizer\n",
    "from sklearn.metrics import confusion_matrix as cm\n",
    "from sklearn.metrics import plot_confusion_matrix\n",
    "import nltk"
   ]
  },
  {
   "cell_type": "code",
   "execution_count": 118,
   "metadata": {
    "pycharm": {
     "is_executing": false
    }
   },
   "outputs": [],
   "source": [
    "data = pd.read_csv('./train.tsv', sep='\\t', header = 0)"
   ]
  },
  {
   "cell_type": "markdown",
   "source": [
    "##### Removes some class [optional]"
   ],
   "metadata": {
    "collapsed": false
   }
  },
  {
   "cell_type": "code",
   "execution_count": 28,
   "outputs": [],
   "source": [
    "data = data.query('Sentiment != 2')\n",
    "data = data.reset_index()\n"
   ],
   "metadata": {
    "collapsed": false,
    "pycharm": {
     "name": "#%% \n",
     "is_executing": false
    }
   }
  },
  {
   "cell_type": "markdown",
   "source": [
    "##### Selects only whole phrases [optional]"
   ],
   "metadata": {
    "collapsed": false
   }
  },
  {
   "cell_type": "code",
   "execution_count": 3,
   "outputs": [],
   "source": [
    "data = data.drop_duplicates(['SentenceId']).groupby('SentenceId').head(1).reset_index()"
   ],
   "metadata": {
    "collapsed": false,
    "pycharm": {
     "name": "#%%\n",
     "is_executing": false
    }
   }
  },
  {
   "cell_type": "markdown",
   "source": [
    "##### Split the dataset"
   ],
   "metadata": {
    "collapsed": false
   }
  },
  {
   "cell_type": "code",
   "execution_count": 119,
   "metadata": {
    "pycharm": {
     "is_executing": false
    }
   },
   "outputs": [],
   "source": [
    "splitx = list(data.drop_duplicates(['SentenceId']).index)\n",
    "splity = list(data.drop_duplicates(['SentenceId']).groupby('SentenceId').head(1).Sentiment.values)\n",
    "\n",
    "skf = StratifiedKFold(n_splits=10, shuffle=True)\n",
    "\n",
    "for train_idx, test_idx in skf.split(splitx, splity):\n",
    "    train = data[data['SentenceId'].isin(train_idx)]\n",
    "    test = data[data['SentenceId'].isin(test_idx)]"
   ]
  },
  {
   "cell_type": "markdown",
   "source": [
    "##### Adds stopwords and lemmatizer to data"
   ],
   "metadata": {
    "collapsed": false
   }
  },
  {
   "cell_type": "code",
   "execution_count": 138,
   "metadata": {
    "pycharm": {
     "is_executing": false
    }
   },
   "outputs": [],
   "source": [
    "# sw = list(stopwords.words('english'))\n",
    "# sw.remove('no')\n",
    "# sw.remove('not')\n",
    "# sw.extend(['cinema', 'film', 'series', 'movie', 'one', 'like', 'story', 'plot', ''])\n",
    "sw = ['cinema', 'film', 'series', 'movie', 'story', 'plot', '', 'the', 'of', 'an', 'a',  'she', 'he', 'to', 'our', 'it', 'my']\n",
    "lemmatizer = WordNetLemmatizer()"
   ]
  },
  {
   "cell_type": "markdown",
   "source": [
    "### Select embedding \n",
    "\n",
    "##### Doc2Vec"
   ],
   "metadata": {
    "collapsed": false
   }
  },
  {
   "cell_type": "code",
   "execution_count": 92,
   "metadata": {
    "pycharm": {
     "is_executing": false
    }
   },
   "outputs": [],
   "source": [
    "SentimentDocument = collections.namedtuple('SentimentDocument', 'words tags sentiment')\n",
    "train = train.reset_index()\n",
    "test = test.reset_index()\n",
    "\n",
    "train_docs = [\n",
    "    SentimentDocument(\n",
    "        row['Phrase'].lower().split(),\n",
    "        [idx], \n",
    "        row['Sentiment']\n",
    "    ) for idx, row in train.iterrows()\n",
    "]\n",
    "\n",
    "test_docs = [\n",
    "    SentimentDocument(\n",
    "        row['Phrase'].lower().split(),\n",
    "        [idx],\n",
    "        row['Sentiment']\n",
    "    ) for idx, row in test.iterrows()\n",
    "]"
   ]
  },
  {
   "cell_type": "code",
   "execution_count": 70,
   "metadata": {
    "pycharm": {
     "is_executing": false
    }
   },
   "outputs": [],
   "source": [
    "common_kwargs = dict(\n",
    "    vector_size=200, epochs=50, min_count=2, workers=6\n",
    ")"
   ]
  },
  {
   "cell_type": "code",
   "execution_count": 95,
   "metadata": {
    "pycharm": {
     "is_executing": false
    }
   },
   "outputs": [
    {
     "name": "stdout",
     "text": [
      "CPU times: user 5min 20s, sys: 27.6 s, total: 5min 48s\n",
      "Wall time: 4min 16s\n"
     ],
     "output_type": "stream"
    }
   ],
   "source": [
    "model = Doc2Vec(dm=0, **common_kwargs)\n",
    "model.build_vocab(train_docs)\n",
    "%time model.train(train_docs, total_examples=len(train_docs), epochs=model.epochs)"
   ]
  },
  {
   "cell_type": "code",
   "execution_count": 96,
   "metadata": {
    "pycharm": {
     "is_executing": false
    }
   },
   "outputs": [
    {
     "name": "stderr",
     "text": [
      "/home/nommoinn/IR/nlp/env/lib/python3.7/site-packages/ipykernel_launcher.py:2: DeprecationWarning: Call to deprecated `doctag_syn0` (Attribute will be removed in 4.0.0, use docvecs.vectors_docs instead).\n",
      "  \n"
     ],
     "output_type": "stream"
    }
   ],
   "source": [
    "#data_X = [model.docvecs[doc.tags[0]] for doc in train_docs]\n",
    "data_X=model.docvecs.doctag_syn0\n",
    "data_Y=train.Sentiment"
   ]
  },
  {
   "cell_type": "code",
   "execution_count": 97,
   "outputs": [],
   "source": [
    "test_words=[model.infer_vector(doc.words) for doc in test_docs]\n",
    "#test_words=[model.infer_vector(doc.words) for doc in test_docs]"
   ],
   "metadata": {
    "collapsed": false,
    "pycharm": {
     "name": "#%%\n",
     "is_executing": false
    }
   }
  },
  {
   "cell_type": "markdown",
   "source": [
    "##### TF-IDF"
   ],
   "metadata": {
    "collapsed": false
   }
  },
  {
   "cell_type": "code",
   "execution_count": 139,
   "metadata": {
    "pycharm": {
     "is_executing": false
    }
   },
   "outputs": [
    {
     "name": "stderr",
     "text": [
      "/home/nommoinn/IR/nlp/env/lib/python3.7/site-packages/sklearn/feature_extraction/text.py:385: UserWarning: Your stop_words may be inconsistent with your preprocessing. Tokenizing the stop words generated tokens ['ha', 'le', 'u', 'wa'] not in stop_words.\n",
      "  'stop_words.' % sorted(inconsistent))\n"
     ],
     "output_type": "stream"
    }
   ],
   "source": [
    "# vectorizer = TfidfVectorizer(\n",
    "#                              tokenizer=word_tokenize,\n",
    "#                              stop_words='english',\n",
    "#                              preprocessor=lemmatizer.lemmatize)\n",
    "\n",
    "vectorizer = TfidfVectorizer(\n",
    "                             tokenizer=word_tokenize,\n",
    "                             preprocessor=lemmatizer.lemmatize)\n",
    "\n",
    "dataX = vectorizer.fit_transform(train.Phrase)"
   ]
  },
  {
   "cell_type": "code",
   "execution_count": 140,
   "outputs": [],
   "source": [
    "test_words=vectorizer.transform(test.Phrase)"
   ],
   "metadata": {
    "collapsed": false,
    "pycharm": {
     "name": "#%%\n",
     "is_executing": false
    }
   }
  },
  {
   "cell_type": "markdown",
   "source": [
    "#### Model selection section\n",
    "\n",
    "###### Manual class weights for SVM [optional]"
   ],
   "metadata": {
    "collapsed": false
   }
  },
  {
   "cell_type": "code",
   "execution_count": 14,
   "outputs": [],
   "source": [
    "class_weights = {0: 1, 1: 0.5, 2: 0.25, 3: 0.5, 4: 1}\n"
   ],
   "metadata": {
    "collapsed": false,
    "pycharm": {
     "name": "#%%\n",
     "is_executing": false
    }
   }
  },
  {
   "cell_type": "markdown",
   "source": [
    "##### RBF SVC + bagging"
   ],
   "metadata": {
    "collapsed": false,
    "pycharm": {
     "name": "#%% md\n"
    }
   }
  },
  {
   "cell_type": "code",
   "execution_count": 147,
   "metadata": {
    "pycharm": {
     "is_executing": false
    }
   },
   "outputs": [],
   "source": [
    "n_estimators = 5\n",
    "classifier = BaggingClassifier(\n",
    "    SVC(\n",
    "        C=6.0, \n",
    "        kernel='rbf',\n",
    "        max_iter=1000,\n",
    "        probability=True, \n",
    "        class_weight='balanced'\n",
    "    ), max_samples=1.0 / n_estimators, n_estimators=n_estimators, n_jobs=-1)"
   ]
  },
  {
   "cell_type": "markdown",
   "source": [
    "##### Linear SVC + bagging"
   ],
   "metadata": {
    "collapsed": false
   }
  },
  {
   "cell_type": "code",
   "execution_count": 130,
   "metadata": {
    "pycharm": {
     "is_executing": false
    }
   },
   "outputs": [],
   "source": [
    "n_estimators = 5\n",
    "classifier = BaggingClassifier(\n",
    "        LinearSVC(\n",
    "                C=6.0,\n",
    "                class_weight='balanced',\n",
    "                loss='squared_hinge',\n",
    "                max_iter=1000,\n",
    "                multi_class='ovr',\n",
    "                penalty='l2',\n",
    "                verbose=0\n",
    "), max_samples=1.0 / n_estimators, n_estimators=n_estimators, n_jobs=-1)"
   ]
  },
  {
   "cell_type": "markdown",
   "source": [
    "##### Linear SVC"
   ],
   "metadata": {
    "collapsed": false
   }
  },
  {
   "cell_type": "code",
   "execution_count": 18,
   "outputs": [],
   "source": [
    "classifier = LinearSVC(\n",
    "        C=6.0,\n",
    "        class_weight=class_weights,\n",
    "        loss='squared_hinge',\n",
    "        max_iter=1000,\n",
    "        multi_class='ovr',\n",
    "        penalty='l2',\n",
    "        verbose=0)"
   ],
   "metadata": {
    "collapsed": false,
    "pycharm": {
     "name": "#%%\n",
     "is_executing": false
    }
   }
  },
  {
   "cell_type": "markdown",
   "source": [
    "##### GBM"
   ],
   "metadata": {
    "collapsed": false
   }
  },
  {
   "cell_type": "code",
   "execution_count": 26,
   "metadata": {
    "pycharm": {
     "is_executing": false
    }
   },
   "outputs": [],
   "source": [
    "classifier = GradientBoostingClassifier(\n",
    "       max_depth=20,\n",
    "       n_estimators=32,\n",
    "       max_features=100,\n",
    "       learning_rate=1\n",
    ")"
   ]
  },
  {
   "cell_type": "markdown",
   "source": [
    "##### Linear SVR for Doc2Vec"
   ],
   "metadata": {
    "collapsed": false
   }
  },
  {
   "cell_type": "code",
   "execution_count": 117,
   "outputs": [
    {
     "data": {
      "text/plain": "0.5168798751950078"
     },
     "metadata": {},
     "output_type": "execute_result",
     "execution_count": 117
    }
   ],
   "source": [
    "regr = LinearSVR(\n",
    "        C=0.75,\n",
    "        epsilon=0.3,\n",
    "        max_iter=5000\n",
    ")\n",
    "regr.fit(X=data_X,y=data_Y)\n",
    "#test_score = regr.score(test_words, test.Sentiment.values)\n",
    "pred = np.round(regr.predict(test_words))\n",
    "accuracy_score(pred, test.Sentiment.values)"
   ],
   "metadata": {
    "collapsed": false,
    "pycharm": {
     "name": "#%%\n",
     "is_executing": false
    }
   }
  },
  {
   "cell_type": "markdown",
   "source": [
    "##### Linear Svr for TF-IDF"
   ],
   "metadata": {
    "collapsed": false
   }
  },
  {
   "cell_type": "code",
   "execution_count": 128,
   "outputs": [
    {
     "data": {
      "text/plain": "0.5814165634977521"
     },
     "metadata": {},
     "output_type": "execute_result",
     "execution_count": 128
    }
   ],
   "source": [
    "regr = LinearSVR(\n",
    "        C=0.75,\n",
    "        epsilon=0.35,\n",
    "        max_iter=5000\n",
    ")\n",
    "regr.fit(X=dataX,y=train.Sentiment)\n",
    "#test_score = regr.score(test_words, test.Sentiment.values)\n",
    "pred = np.round(regr.predict(test_words))\n",
    "accuracy_score(pred, test.Sentiment.values)"
   ],
   "metadata": {
    "collapsed": false,
    "pycharm": {
     "name": "#%%\n",
     "is_executing": false
    }
   }
  },
  {
   "cell_type": "markdown",
   "source": [
    "##### Doc2Vec predict section"
   ],
   "metadata": {
    "collapsed": false
   }
  },
  {
   "cell_type": "code",
   "execution_count": 104,
   "metadata": {
    "scrolled": true,
    "pycharm": {
     "is_executing": false
    }
   },
   "outputs": [
    {
     "data": {
      "text/plain": "0.5174414976599064"
     },
     "metadata": {},
     "output_type": "execute_result",
     "execution_count": 104
    }
   ],
   "source": [
    "classifier.fit(X=data_X,y=data_Y)\n",
    "pred = classifier.predict(test_words)\n",
    "accuracy_score(pred, test.Sentiment)"
   ]
  },
  {
   "cell_type": "markdown",
   "source": [
    "##### TF-IDF predict section"
   ],
   "metadata": {
    "collapsed": false,
    "pycharm": {
     "name": "#%% md\n"
    }
   }
  },
  {
   "cell_type": "code",
   "execution_count": null,
   "outputs": [],
   "source": [
    "classifier.fit(X=dataX,y=train.Sentiment)\n",
    "pred = classifier.predict(test_words)\n",
    "accuracy_score(pred, test.Sentiment)\n"
   ],
   "metadata": {
    "collapsed": false,
    "pycharm": {
     "name": "#%%\n",
     "is_executing": true
    }
   }
  },
  {
   "cell_type": "markdown",
   "source": [
    "#### Print confusion matrix"
   ],
   "metadata": {
    "collapsed": false
   }
  },
  {
   "cell_type": "code",
   "execution_count": 20,
   "outputs": [
    {
     "name": "stdout",
     "text": [
      "[[ 199  234  137  105   33]\n",
      " [ 261  855  950  506  155]\n",
      " [ 200 1099 4662 1625  372]\n",
      " [  83  393  935 1421  461]\n",
      " [  19   80  105  374  342]]\n",
      "Normalized confusion matrix\n",
      "[[0.28 0.33 0.19 0.15 0.05]\n",
      " [0.1  0.31 0.35 0.19 0.06]\n",
      " [0.03 0.14 0.59 0.2  0.05]\n",
      " [0.03 0.12 0.28 0.43 0.14]\n",
      " [0.02 0.09 0.11 0.41 0.37]]\n",
      "None\n"
     ],
     "output_type": "stream"
    },
    {
     "data": {
      "text/plain": "<Figure size 432x288 with 2 Axes>",
      "image/png": "[encoded data removed]"
     },
     "metadata": {
      "needs_background": "light"
     },
     "output_type": "display_data"
    },
    {
     "data": {
      "text/plain": "<Figure size 432x288 with 2 Axes>",
      "image/png": "[encoded data removed]"
     },
     "metadata": {
      "needs_background": "light"
     },
     "output_type": "display_data"
    }
   ],
   "source": [
    "def confusion_matrix(cls, X, y_true, y_pred):\n",
    "    \n",
    "    my_cm = cm(y_true, y_pred, labels=[0.0,1.0,2.0,3.0,4.0])\n",
    "    print(my_cm)\n",
    "    \n",
    "    labels=[0.0,1.0,2.0,3.0,4.0]\n",
    "    np.set_printoptions(precision=2)    \n",
    "    # Plot non-normalized confusion matrix\n",
    "    titles_options = [(\"Confusion matrix, without normalization\", None),\n",
    "                  (\"Normalized confusion matrix\", 'true')]\n",
    "    for title, normalize in titles_options:\n",
    "        disp = plot_confusion_matrix(cls, X ,y_true,\n",
    "                                 display_labels=labels,\n",
    "                                 cmap=plt.cm.Reds,\n",
    "                                 normalize=normalize)   \n",
    "    disp.ax_.set_title(title)\n",
    "    print(title)\n",
    "    print(disp.confusion_matrix)   \n",
    "    plt.show()\n",
    "\n",
    "#Generate confusion matrices     \n",
    "\n",
    "cm_1 = confusion_matrix(classifier, test_words, test.Sentiment, pred)\n",
    "print(cm_1)\n",
    "\n"
   ],
   "metadata": {
    "collapsed": false,
    "pycharm": {
     "name": "#%%\n",
     "is_executing": false
    }
   }
  }
 ],
 "metadata": {
  "kernelspec": {
   "display_name": "IR-env",
   "language": "python",
   "name": "ir-env"
  },
  "language_info": {
   "codemirror_mode": {
    "name": "ipython",
    "version": 3
   },
   "file_extension": ".py",
   "mimetype": "text/x-python",
   "name": "python",
   "nbconvert_exporter": "python",
   "pygments_lexer": "ipython3",
   "version": "3.7.5"
  },
  "toc": {
   "base_numbering": 1,
   "nav_menu": {},
   "number_sections": false,
   "sideBar": false,
   "skip_h1_title": false,
   "title_cell": "Table of Contents",
   "title_sidebar": "Contents",
   "toc_cell": false,
   "toc_position": {},
   "toc_section_display": false,
   "toc_window_display": false
  },
  "pycharm": {
   "stem_cell": {
    "cell_type": "raw",
    "source": [],
    "metadata": {
     "collapsed": false
    }
   }
  }
 },
 "nbformat": 4,
 "nbformat_minor": 2
}